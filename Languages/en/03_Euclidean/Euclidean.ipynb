{
 "cells": [
  {
   "cell_type": "code",
   "execution_count": 1,
   "id": "89bfa7da",
   "metadata": {},
   "outputs": [
    {
     "name": "stdout",
     "output_type": "stream",
     "text": [
      "30 和 24 的最大公约数是 6\n"
     ]
    }
   ],
   "source": [
    "def euclidean_algorithm(a, b):\n",
    "    if a < b:\n",
    "        a, b = b, a\n",
    "    while b:\n",
    "        a, b = b, a % b\n",
    "    return a\n",
    "\n",
    "# 示例\n",
    "num1 = 30\n",
    "num2 = 24\n",
    "gcd_result = euclidean_algorithm(num1, num2)\n",
    "print(f'{num1} 和 {num2} 的最大公约数是 {gcd_result}')\n",
    "# 输出: 30 和 24 的最大公约数是 6\n"
   ]
  }
 ],
 "metadata": {
  "kernelspec": {
   "display_name": "Python 3 (ipykernel)",
   "language": "python",
   "name": "python3"
  },
  "language_info": {
   "codemirror_mode": {
    "name": "ipython",
    "version": 3
   },
   "file_extension": ".py",
   "mimetype": "text/x-python",
   "name": "python",
   "nbconvert_exporter": "python",
   "pygments_lexer": "ipython3",
   "version": "3.11.5"
  }
 },
 "nbformat": 4,
 "nbformat_minor": 5
}
